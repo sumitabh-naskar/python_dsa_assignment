{
  "nbformat": 4,
  "nbformat_minor": 0,
  "metadata": {
    "colab": {
      "provenance": []
    },
    "kernelspec": {
      "name": "python3",
      "display_name": "Python 3"
    },
    "language_info": {
      "name": "python"
    }
  },
  "cells": [
    {
      "cell_type": "markdown",
      "source": [
        "#Theoretical Questions\n",
        "---"
      ],
      "metadata": {
        "id": "9bc6X8Ub-hNF"
      }
    },
    {
      "cell_type": "markdown",
      "source": [
        "1. What are data structures, and why are they important?\n",
        "\n",
        "Ans:Data structures in Python are fundamental ways of organizing and storing data to enable efficient access and manipulation.\n",
        "They are important because they help manage collections of data,\n",
        "perform operations like searching and sorting, and are crucial for writing optimized and readable code.\n"
      ],
      "metadata": {
        "id": "vbVNblVWVcta"
      }
    },
    {
      "cell_type": "markdown",
      "source": [
        "2. Explain the difference between mutable and immutable datatypes with examples.\n",
        "\n",
        "Ans: Mutable data types are those whose values can be changed after they are created, while immutable data types cannot be altered once they are created. Examples of mutable data types include lists and dictionaries, while examples of immutable data types include strings and tuples.\n",
        "\n"
      ],
      "metadata": {
        "id": "uqmodFJjWjzR"
      }
    },
    {
      "cell_type": "markdown",
      "source": [
        "Mutable Data Types:\n",
        "Definition: Mutable data types allow modifications to their values after they are created. Changes are made directly to the object itself, without creating a new one.\n",
        "Examples in Python: Lists, dictionaries, and sets are all mutable."
      ],
      "metadata": {
        "id": "1dc-ZLCJW8r0"
      }
    },
    {
      "cell_type": "code",
      "source": [
        "    #Illustrative Example\n",
        "my_list = [1, 2, 3]\n",
        "my_list[0] = 4  # Modifying the first element\n",
        "print(my_list)  # Output: [4, 2, 3]\n"
      ],
      "metadata": {
        "colab": {
          "base_uri": "https://localhost:8080/"
        },
        "id": "m3HtF21qXEdU",
        "outputId": "d8693a7e-5fbb-4d7f-ce81-c7b69dfa30fe"
      },
      "execution_count": null,
      "outputs": [
        {
          "output_type": "stream",
          "name": "stdout",
          "text": [
            "[4, 2, 3]\n"
          ]
        }
      ]
    },
    {
      "cell_type": "markdown",
      "source": [
        "Immutable Data Types:\n",
        "Definition: Immutable data types do not allow changes to their values once created. Any attempt to modify them results in creating a new object.\n",
        "Examples in Python: Strings, tuples, and numbers (integers, floats, etc.) are immutable."
      ],
      "metadata": {
        "id": "XsykyfDSXXIc"
      }
    },
    {
      "cell_type": "code",
      "source": [
        "my_name = \"sumitabh\"\n",
        "my_name[0] = \"S\"  # This will raise an error because strings are immutable\n"
      ],
      "metadata": {
        "colab": {
          "base_uri": "https://localhost:8080/",
          "height": 156
        },
        "id": "XdW-i7zDXnZh",
        "outputId": "737515c8-b989-428d-a885-de0e1e1cb405"
      },
      "execution_count": null,
      "outputs": [
        {
          "output_type": "error",
          "ename": "TypeError",
          "evalue": "'str' object does not support item assignment",
          "traceback": [
            "\u001b[0;31m---------------------------------------------------------------------------\u001b[0m",
            "\u001b[0;31mTypeError\u001b[0m                                 Traceback (most recent call last)",
            "\u001b[0;32m<ipython-input-11-4b35b559eb46>\u001b[0m in \u001b[0;36m<cell line: 0>\u001b[0;34m()\u001b[0m\n\u001b[1;32m      1\u001b[0m \u001b[0mmy_name\u001b[0m \u001b[0;34m=\u001b[0m \u001b[0;34m\"sumitabh\"\u001b[0m\u001b[0;34m\u001b[0m\u001b[0;34m\u001b[0m\u001b[0m\n\u001b[0;32m----> 2\u001b[0;31m \u001b[0mmy_name\u001b[0m\u001b[0;34m[\u001b[0m\u001b[0;36m0\u001b[0m\u001b[0;34m]\u001b[0m \u001b[0;34m=\u001b[0m \u001b[0;34m\"S\"\u001b[0m  \u001b[0;31m# This will raise an error because strings are immutable\u001b[0m\u001b[0;34m\u001b[0m\u001b[0;34m\u001b[0m\u001b[0m\n\u001b[0m",
            "\u001b[0;31mTypeError\u001b[0m: 'str' object does not support item assignment"
          ]
        }
      ]
    },
    {
      "cell_type": "markdown",
      "source": [
        "3. What are the main differences between lists and tuples in Python?\n",
        "\n",
        "Ans:In Python, the main difference between lists and tuples is that lists are mutable, while tuples are immutable. This means that lists can be changed after creation, but tuples cannot.\n",
        "\n",
        "#Differences->\n",
        "\n",
        "(i). Mutability:\n",
        "\n",
        "Lists:\n",
        "Lists can be modified after they are created. You can add, remove, or change elements.\n",
        "\n",
        "Tuples:\n",
        "Tuples cannot be modified after they are created. Their elements cannot be changed, added, or removed.\n",
        "\n",
        "(ii). Syntax:\n",
        "\n",
        "Lists: Defined using square brackets: my_list = [1, 2, 3].\n",
        "\n",
        "Tuples: Defined using parentheses: my_tuple = (1, 2, 3).\n",
        "\n",
        "(iii). Memory Efficiency:\n",
        "\n",
        "Tuples: Tuples are typically more memory-efficient than lists.\n",
        "\n",
        "Lists: Lists require more memory due to their mutability and the need to track changes.\n",
        "\n",
        "(iv). Use Cases:\n",
        "\n",
        "Lists:\n",
        "Use lists when you need a dynamic collection of items that can be frequently modified.\n",
        "\n",
        "Tuples:\n",
        "Use tuples when you need to store a fixed collection of items that will not change during program execution. For example, you might use a tuple to represent a geographic coordinate (latitude, longitude).\n",
        "\n",
        "(v). Other Notable Differences:\n",
        "Iteration:\n",
        "Tuples can be iterated over directly, while lists require the use of a for loop.\n",
        "Nested Structures:\n",
        "Tuples can be nested within other tuples, while lists cannot be nested within other lists.\n",
        "Hashable:\n",
        "Tuples are hashable, meaning they can be used as keys in dictionaries, while lists are not."
      ],
      "metadata": {
        "id": "dtFJtSYDaNs8"
      }
    },
    {
      "cell_type": "markdown",
      "source": [],
      "metadata": {
        "id": "O0lsHAO-bR88"
      }
    },
    {
      "cell_type": "markdown",
      "source": [
        "4. Describe how dictionaries store data.\n",
        "\n",
        "Ans: Dictionaries are used to store data values in key:value pairs. A dictionary is a collection which is ordered, changeable and do not allow duplicates.\n"
      ],
      "metadata": {
        "id": "8EX20UqTWWAV"
      }
    },
    {
      "cell_type": "code",
      "source": [
        "#Examples:\n",
        "#empty dictionary->\n",
        "\n",
        "emp_dict ={}\n",
        "\n",
        "#dictionary with value\n",
        "\n",
        "dict = {\"d1:d2\", \"a1:b1\"}"
      ],
      "metadata": {
        "id": "GV8Xd0uSXvPg"
      },
      "execution_count": null,
      "outputs": []
    },
    {
      "cell_type": "code",
      "source": [
        "emp_dict"
      ],
      "metadata": {
        "colab": {
          "base_uri": "https://localhost:8080/"
        },
        "id": "oh4xLq-RYE8b",
        "outputId": "e73d70e1-36aa-48ad-c64c-cd18c00d1cb6"
      },
      "execution_count": null,
      "outputs": [
        {
          "output_type": "execute_result",
          "data": {
            "text/plain": [
              "{}"
            ]
          },
          "metadata": {},
          "execution_count": 7
        }
      ]
    },
    {
      "cell_type": "code",
      "source": [
        "dict"
      ],
      "metadata": {
        "colab": {
          "base_uri": "https://localhost:8080/"
        },
        "id": "b-soF8I7YkST",
        "outputId": "6d6dde5d-84d3-498c-d3a5-ca79005b1df8"
      },
      "execution_count": null,
      "outputs": [
        {
          "output_type": "execute_result",
          "data": {
            "text/plain": [
              "{'a1:b1', 'd1:d2'}"
            ]
          },
          "metadata": {},
          "execution_count": 8
        }
      ]
    },
    {
      "cell_type": "markdown",
      "source": [
        "5. Why might you use a set instead of a list in Python?\n",
        "\n",
        "Ans:Because sets cannot have multiple occurrences of the same element, it makes sets highly useful to efficiently remove duplicate values from a list or tuple and to perform common math operations like unions and intersections.\n",
        "\n"
      ],
      "metadata": {
        "id": "vBYDvx1NY3Fs"
      }
    },
    {
      "cell_type": "markdown",
      "source": [
        "6. What is a string in Python, and how is it different from a list?\n",
        "\n",
        "Ans:A string is a sequence of characters between single or double quotes. A list is a sequence of items, where each item could be anything an integer, a float, a string, etc."
      ],
      "metadata": {
        "id": "-sg45VIRaVpf"
      }
    },
    {
      "cell_type": "markdown",
      "source": [
        "7. How do tuples ensure data integrity in Python?\n",
        "\n",
        "Ans:Tuples are immutable to ensure that their contents remain constant throughout their lifecycle, which ensures data integrity and reliability. This immutability allows tuples to be used as keys in dictionaries and elements in sets, as they can be hashed."
      ],
      "metadata": {
        "id": "VkX7hWaZa4IJ"
      }
    },
    {
      "cell_type": "markdown",
      "source": [
        "8.What is a hash table, and how does it relate to dictionaries in Python?\n",
        "\n",
        "Ans:A hash table is a data structure that uses a hash function to map keys to values, allowing for efficient storage and retrieval of data.Dictionaries are essentially implementations of hash tables. This means that Python dictionaries leverage hashing to store and retrieve key-value pairs quickly.\n"
      ],
      "metadata": {
        "id": "HlhQh9enbWzR"
      }
    },
    {
      "cell_type": "markdown",
      "source": [
        "9. Can lists contain different data types in Python?\n",
        "\n",
        "Ans:Lists can contain heterogeneous data types and objects. For example, integers, strings,booleans,floats,complex numbers and even functions can be stored within the same list.\n"
      ],
      "metadata": {
        "id": "uVSalRescDbM"
      }
    },
    {
      "cell_type": "code",
      "source": [
        "#For Example:\n",
        "my_list = [1,3.5,False,\"abc\",(3+5j)]"
      ],
      "metadata": {
        "id": "IZsmNWBnch9V"
      },
      "execution_count": null,
      "outputs": []
    },
    {
      "cell_type": "code",
      "source": [
        "my_list"
      ],
      "metadata": {
        "colab": {
          "base_uri": "https://localhost:8080/"
        },
        "id": "knDHmmt5c-z_",
        "outputId": "28d934fa-0b77-4112-d437-903964154275"
      },
      "execution_count": null,
      "outputs": [
        {
          "output_type": "execute_result",
          "data": {
            "text/plain": [
              "[1, 3.5, False, 'abc', (3+5j)]"
            ]
          },
          "metadata": {},
          "execution_count": 16
        }
      ]
    },
    {
      "cell_type": "markdown",
      "source": [
        "10.Explain why strings are immutable in Python?\n",
        "\n",
        "Ans:Python strings are (Immutable) which means they cannot be changed after they are created.Since strings can't be changed, we construct a new strings to represent new values."
      ],
      "metadata": {
        "id": "EoRv0FOmeiLv"
      }
    },
    {
      "cell_type": "markdown",
      "source": [
        "11. What advantages do dictionaries offer over lists for certain tasks?\n",
        "\n",
        "Ans:The list allows duplicate items, while the dictionary does not allow any duplicate keys. A list can store any data type. In contrast, keys in the dictionary can be of any immutable data type, and values can be of any data type."
      ],
      "metadata": {
        "id": "GwHsm9PifKwG"
      }
    },
    {
      "cell_type": "markdown",
      "source": [
        "12. Describe a scenario where using a tuple would be preferable over a list.\n",
        "\n",
        "Ans:Tuple can be used to store confidential data like Phone Numbers,Address,Aadhar Number,etc.As Tuples are Immutable(Unchangeable) other user cannot edit or replace Primary Data.\n",
        "\n",
        "Whereas, List are Mutable(Changeable). Below is an example to illustrate the difference between both."
      ],
      "metadata": {
        "id": "8oSV8rzzgPfw"
      }
    },
    {
      "cell_type": "code",
      "source": [
        "#Tuples\n",
        "details = (\"phone number\",\"Aadhar Number\",\"Address\")"
      ],
      "metadata": {
        "id": "nycJ1lSfhQn-"
      },
      "execution_count": null,
      "outputs": []
    },
    {
      "cell_type": "code",
      "source": [
        "details"
      ],
      "metadata": {
        "colab": {
          "base_uri": "https://localhost:8080/"
        },
        "id": "yOBSvOl-huTd",
        "outputId": "23e56cb0-512b-45ca-8f67-e2e121cc6f8a"
      },
      "execution_count": null,
      "outputs": [
        {
          "output_type": "execute_result",
          "data": {
            "text/plain": [
              "('phone number', 'Aadhar Number', 'Address')"
            ]
          },
          "metadata": {},
          "execution_count": 18
        }
      ]
    },
    {
      "cell_type": "code",
      "source": [
        "details[1] =\"Pan Number\" #This will show an error as Tuples are Immutable and cannot be changed or replaced once created."
      ],
      "metadata": {
        "colab": {
          "base_uri": "https://localhost:8080/",
          "height": 139
        },
        "id": "LmbyZgbrhvUT",
        "outputId": "23f2cdf7-bc64-46d6-b643-f9e249e1a022"
      },
      "execution_count": null,
      "outputs": [
        {
          "output_type": "error",
          "ename": "TypeError",
          "evalue": "'tuple' object does not support item assignment",
          "traceback": [
            "\u001b[0;31m---------------------------------------------------------------------------\u001b[0m",
            "\u001b[0;31mTypeError\u001b[0m                                 Traceback (most recent call last)",
            "\u001b[0;32m<ipython-input-19-088fb8bc90d3>\u001b[0m in \u001b[0;36m<cell line: 0>\u001b[0;34m()\u001b[0m\n\u001b[0;32m----> 1\u001b[0;31m \u001b[0mdetails\u001b[0m\u001b[0;34m[\u001b[0m\u001b[0;36m1\u001b[0m\u001b[0;34m]\u001b[0m \u001b[0;34m=\u001b[0m\u001b[0;34m\"Pan Number\"\u001b[0m\u001b[0;34m\u001b[0m\u001b[0;34m\u001b[0m\u001b[0m\n\u001b[0m",
            "\u001b[0;31mTypeError\u001b[0m: 'tuple' object does not support item assignment"
          ]
        }
      ]
    },
    {
      "cell_type": "code",
      "source": [
        "#Lists\n",
        "my_list = [\"phone number\",\"Aadhar Number\",\"Address\"]"
      ],
      "metadata": {
        "id": "qIvEe547h7-n"
      },
      "execution_count": null,
      "outputs": []
    },
    {
      "cell_type": "code",
      "source": [
        "my_list"
      ],
      "metadata": {
        "colab": {
          "base_uri": "https://localhost:8080/"
        },
        "id": "GpW7oTbmitwn",
        "outputId": "71169008-0bd1-43b4-ad71-10d0bb30b3c0"
      },
      "execution_count": null,
      "outputs": [
        {
          "output_type": "execute_result",
          "data": {
            "text/plain": [
              "['phone number', 'Aadhar Number', 'Address']"
            ]
          },
          "metadata": {},
          "execution_count": 22
        }
      ]
    },
    {
      "cell_type": "code",
      "source": [
        "my_list[1] = (\"Pan Card\")"
      ],
      "metadata": {
        "id": "AWSEuX-Uiuod"
      },
      "execution_count": null,
      "outputs": []
    },
    {
      "cell_type": "code",
      "source": [
        "my_list #This will not show an error as Lists are Mutable and can be changed or replaced as many times as user wants."
      ],
      "metadata": {
        "colab": {
          "base_uri": "https://localhost:8080/"
        },
        "id": "9ue9ObWJi3IJ",
        "outputId": "d208a856-46bc-4670-ead8-346cd3267580"
      },
      "execution_count": null,
      "outputs": [
        {
          "output_type": "execute_result",
          "data": {
            "text/plain": [
              "['phone number', 'Pan Card', 'Address']"
            ]
          },
          "metadata": {},
          "execution_count": 25
        }
      ]
    },
    {
      "cell_type": "markdown",
      "source": [
        "13. How do sets handle duplicate values in Python?\n",
        "\n",
        "Ans:It's an unordered collection of unique elements, meaning it cannot contain any duplicate items. When you add elements to a set, Python automatically removes any duplicates. This makes it a perfect choice for scenarios where you need to store a collection of items while ensuring uniqueness.\n",
        "\n"
      ],
      "metadata": {
        "id": "0DGH4hZOjMLD"
      }
    },
    {
      "cell_type": "code",
      "source": [
        "#For Example:\n",
        "set={1,1,1,2,3,4} #Input"
      ],
      "metadata": {
        "id": "jgYcW7tMjyxd"
      },
      "execution_count": null,
      "outputs": []
    },
    {
      "cell_type": "code",
      "source": [
        "set #Output"
      ],
      "metadata": {
        "colab": {
          "base_uri": "https://localhost:8080/"
        },
        "id": "lAHIYhArj7VK",
        "outputId": "af61562d-3cb2-4a6b-f52b-4454a4e22adb"
      },
      "execution_count": null,
      "outputs": [
        {
          "output_type": "execute_result",
          "data": {
            "text/plain": [
              "{1, 2, 3, 4}"
            ]
          },
          "metadata": {},
          "execution_count": 27
        }
      ]
    },
    {
      "cell_type": "markdown",
      "source": [
        "14. How does the “in” keyword work differently for lists and dictionaries?\n",
        "\n",
        "Ans:In Lists (in) can be used to check both elements and indexation but in Dictionary (in) can only be used to check the keys."
      ],
      "metadata": {
        "id": "yplYKaNskV-i"
      }
    },
    {
      "cell_type": "code",
      "source": [
        "#For Example:\n",
        "#Lists\n",
        "\n",
        "my_list = [1, 2, 3, 4]\n",
        "\n",
        "print(2 in my_list)   # True"
      ],
      "metadata": {
        "colab": {
          "base_uri": "https://localhost:8080/"
        },
        "id": "4YnafcLhkg7I",
        "outputId": "77da8455-dd9d-4022-8ca6-eb52eab5651e"
      },
      "execution_count": null,
      "outputs": [
        {
          "output_type": "stream",
          "name": "stdout",
          "text": [
            "True\n"
          ]
        }
      ]
    },
    {
      "cell_type": "code",
      "source": [
        "print(5 in my_list)   # False\n"
      ],
      "metadata": {
        "colab": {
          "base_uri": "https://localhost:8080/"
        },
        "id": "wSzxLeuqkxBa",
        "outputId": "04570ba5-ed98-40ce-94d9-67b359f98f5b"
      },
      "execution_count": null,
      "outputs": [
        {
          "output_type": "stream",
          "name": "stdout",
          "text": [
            "False\n"
          ]
        }
      ]
    },
    {
      "cell_type": "code",
      "source": [
        "#Dictionaries:\n",
        "my_dict = {\"apple\": 1, \"banana\": 2, \"cherry\": 3}\n",
        "\n",
        "print(\"banana\" in my_dict)     # True (key exists)"
      ],
      "metadata": {
        "colab": {
          "base_uri": "https://localhost:8080/"
        },
        "id": "8sPj9vYOl8Cf",
        "outputId": "798fe780-35c3-47fc-a14e-8c5cb5adfadb"
      },
      "execution_count": null,
      "outputs": [
        {
          "output_type": "stream",
          "name": "stdout",
          "text": [
            "True\n"
          ]
        }
      ]
    },
    {
      "cell_type": "code",
      "source": [
        "print(2 in my_dict)            # False (2 is a value, not a key)"
      ],
      "metadata": {
        "colab": {
          "base_uri": "https://localhost:8080/"
        },
        "id": "x3s8XHXImS8H",
        "outputId": "a3833092-ca19-44c4-f3b5-9f1fd034014b"
      },
      "execution_count": null,
      "outputs": [
        {
          "output_type": "stream",
          "name": "stdout",
          "text": [
            "False\n"
          ]
        }
      ]
    },
    {
      "cell_type": "code",
      "source": [
        "print(2 in my_dict.values())   # 2 exists in dictionary so, output will be shown as True"
      ],
      "metadata": {
        "colab": {
          "base_uri": "https://localhost:8080/"
        },
        "id": "Vi5E2QIGmTly",
        "outputId": "ffc2bd6a-9a6d-4c76-ba08-a44ddc7fb2eb"
      },
      "execution_count": null,
      "outputs": [
        {
          "output_type": "stream",
          "name": "stdout",
          "text": [
            "True\n"
          ]
        }
      ]
    },
    {
      "cell_type": "markdown",
      "source": [
        "15. Can you modify the elements of a tuple? Explain why or why not?\n",
        "\n",
        "Ans: No,because Tuples are Immutable, which means once a tuple is created, it's contents cannot be changed no elements can be added,modified or removed.\n",
        "\n"
      ],
      "metadata": {
        "id": "PLK_-_eDngkS"
      }
    },
    {
      "cell_type": "code",
      "source": [
        "details = (\"phone number\",\"Aadhar Number\",\"Address\")"
      ],
      "metadata": {
        "id": "HiDT5bRtoAbS"
      },
      "execution_count": null,
      "outputs": []
    },
    {
      "cell_type": "code",
      "source": [
        "details[1] =\"Pan Number\" #This will show an error as Tuples are Immutable and cannot be changed or replaced once created."
      ],
      "metadata": {
        "colab": {
          "base_uri": "https://localhost:8080/",
          "height": 139
        },
        "id": "fPU-O9xdpIoP",
        "outputId": "5e26ca6c-fdce-4d69-fcec-ad491420adaa"
      },
      "execution_count": null,
      "outputs": [
        {
          "output_type": "error",
          "ename": "TypeError",
          "evalue": "'tuple' object does not support item assignment",
          "traceback": [
            "\u001b[0;31m---------------------------------------------------------------------------\u001b[0m",
            "\u001b[0;31mTypeError\u001b[0m                                 Traceback (most recent call last)",
            "\u001b[0;32m<ipython-input-41-0946072a9931>\u001b[0m in \u001b[0;36m<cell line: 0>\u001b[0;34m()\u001b[0m\n\u001b[0;32m----> 1\u001b[0;31m \u001b[0mdetails\u001b[0m\u001b[0;34m[\u001b[0m\u001b[0;36m1\u001b[0m\u001b[0;34m]\u001b[0m \u001b[0;34m=\u001b[0m\u001b[0;34m\"Pan Number\"\u001b[0m \u001b[0;31m#This will show an error as Tuples are Immutable and cannot be changed or replaced once created.\u001b[0m\u001b[0;34m\u001b[0m\u001b[0;34m\u001b[0m\u001b[0m\n\u001b[0m",
            "\u001b[0;31mTypeError\u001b[0m: 'tuple' object does not support item assignment"
          ]
        }
      ]
    },
    {
      "cell_type": "markdown",
      "source": [
        "16. What is a nested dictionary, and give an example of its use case?\n",
        "\n",
        "Ans: A nested dictionary is a dictionary inside another dictionary. It allows you to structure more complex data like objects with details in a clear, organized way."
      ],
      "metadata": {
        "id": "ORwUJwZwpWkI"
      }
    },
    {
      "cell_type": "code",
      "source": [
        "#For Example:\n",
        "#Student Details:\n",
        "\n",
        "students = {\"Ajay\": {\"age\": 28, \"subject\": \"Pure Science\"},\n",
        "    \"Boby\": {\"age\": 21, \"subject\": \"Commerce\"},\n",
        "    \"Charu\": {\"age\": 20, \"subject\": \"Arts\"}}"
      ],
      "metadata": {
        "id": "uUZh6GJ1ptjR"
      },
      "execution_count": null,
      "outputs": []
    },
    {
      "cell_type": "code",
      "source": [
        "print(students[\"Ajay\"][\"subject\"])"
      ],
      "metadata": {
        "colab": {
          "base_uri": "https://localhost:8080/"
        },
        "id": "GAh4iIQjq6DU",
        "outputId": "fff6df3e-0c22-41e6-d7f6-81fd6bd2e4eb"
      },
      "execution_count": null,
      "outputs": [
        {
          "output_type": "stream",
          "name": "stdout",
          "text": [
            "Pure Science\n"
          ]
        }
      ]
    },
    {
      "cell_type": "markdown",
      "source": [
        "17.Describe the time complexity of accessing elements in a dictionary.\n",
        "\n",
        "Ans: The time complexity of searching for a value in a dictionary is usually O(1), which means that it takes a constant amount of time to search for a value in a dictionary, regardless of the size of the dictionary.\n"
      ],
      "metadata": {
        "id": "TrwUuyw2rNtK"
      }
    },
    {
      "cell_type": "markdown",
      "source": [
        "18. In what situations are lists preferred over dictionaries?\n",
        "\n",
        "Ans: Lists perform faster for ordered operations like sorting, while dictionaries perform faster for lookup operations.\n",
        "Lists can contain duplicate values but Dictionaries cannot.Slicing is possible for lists but slicing is not possible for dictionaries.Lists is used when data is dynamic or of different sets but dictionaries are used for large scale data lookup."
      ],
      "metadata": {
        "id": "RBrZCzprvo5Z"
      }
    },
    {
      "cell_type": "markdown",
      "source": [
        "19. Why are dictionaries considered unordered, and how does that affect data retrieval?\n",
        "\n",
        "Ans: Dictionaries doesn't sort inputed data infact, If we input data in Dictionaries in sorted manner after every iteration result can be different from previous one.Dictionary focus on faster access of data not sorting them."
      ],
      "metadata": {
        "id": "HVr1U0T94v1T"
      }
    },
    {
      "cell_type": "code",
      "source": [
        "#For Example:\n",
        "dict = {\"India:Delhi\",\"Australia:Sydney,Europe:England\"} #input"
      ],
      "metadata": {
        "id": "iP2eS7Pg6P9k"
      },
      "execution_count": null,
      "outputs": []
    },
    {
      "cell_type": "code",
      "source": [
        "dict #output result"
      ],
      "metadata": {
        "colab": {
          "base_uri": "https://localhost:8080/"
        },
        "id": "RGJeFDAs6jUL",
        "outputId": "f51e3132-dffc-4d9b-dd1f-eb2d10175624"
      },
      "execution_count": null,
      "outputs": [
        {
          "output_type": "execute_result",
          "data": {
            "text/plain": [
              "{'Australia:Sydney,Europe:England', 'India:Delhi'}"
            ]
          },
          "metadata": {},
          "execution_count": 60
        }
      ]
    },
    {
      "cell_type": "markdown",
      "source": [
        "20. Explain the difference between a list and a dictionary in terms of data retrieval.\n",
        "\n",
        "Ans:Difference between list and dictionary:\n",
        "\n",
        "Lists-> A list is an ordered collection of items in Python, where each item can be accessed using its index (position).\n",
        "\n",
        "#Syntax:\n",
        "my_list = []\n",
        "\n",
        "#Accessibility:\n",
        "Must know the position of the element.\n",
        "\n",
        "#For Example:\n",
        "my_list = [10, 20, 30]\n",
        "print(my_list[1])  # Output: 20\n",
        "\n",
        "Dictionaries-> A dictionary is an unordered collection of key pairs, where each value is accessed using a unique key.\n",
        "\n",
        "#Syntax:\n",
        "my_dict = {}\n",
        "\n",
        "#Accessibility:\n",
        "Accessible only by using meaningful key.\n",
        "\n",
        "#For Example:\n",
        "my_dict = {\"name\": \"Sumitabh\", \"age\": 25}\n",
        "print(my_dict[\"name\"])  # Output: Sumitabh\n",
        "---"
      ],
      "metadata": {
        "id": "er_NBcvu_SdZ"
      }
    },
    {
      "cell_type": "markdown",
      "source": [
        "#Practical Questions\n",
        "---"
      ],
      "metadata": {
        "id": "XNKVZ22dhXH1"
      }
    },
    {
      "cell_type": "code",
      "source": [
        "#1.Write a code to create a string with your name and print it.\n",
        "name = \"Sumitabh\"\n",
        "print(name)"
      ],
      "metadata": {
        "colab": {
          "base_uri": "https://localhost:8080/"
        },
        "id": "NMZYYwhhhd8i",
        "outputId": "f94f014e-aeb4-488e-85ac-496e89a3714c"
      },
      "execution_count": 1,
      "outputs": [
        {
          "output_type": "stream",
          "name": "stdout",
          "text": [
            "Sumitabh\n"
          ]
        }
      ]
    },
    {
      "cell_type": "code",
      "source": [
        "#2.Write a code to find the length of the string \"Hello World\".\n",
        "str = \"Hello World\"\n",
        "len(str)"
      ],
      "metadata": {
        "colab": {
          "base_uri": "https://localhost:8080/"
        },
        "id": "8hpQHSmEiJtv",
        "outputId": "a1304b54-2b0e-4992-97ac-499b922b94d7"
      },
      "execution_count": 2,
      "outputs": [
        {
          "output_type": "execute_result",
          "data": {
            "text/plain": [
              "11"
            ]
          },
          "metadata": {},
          "execution_count": 2
        }
      ]
    },
    {
      "cell_type": "code",
      "source": [
        "#3.Write a code to slice the first 3 characters from the string \"Python Programming\".\n",
        "a = \"Python Programming\"\n",
        "a[:3]"
      ],
      "metadata": {
        "colab": {
          "base_uri": "https://localhost:8080/",
          "height": 35
        },
        "id": "kg6UFYM_ibY4",
        "outputId": "6110db54-d6f1-4360-8a8b-0500098c93d1"
      },
      "execution_count": 4,
      "outputs": [
        {
          "output_type": "execute_result",
          "data": {
            "text/plain": [
              "'Pyt'"
            ],
            "application/vnd.google.colaboratory.intrinsic+json": {
              "type": "string"
            }
          },
          "metadata": {},
          "execution_count": 4
        }
      ]
    },
    {
      "cell_type": "code",
      "source": [
        "#4.Write a code to convert the string \"hello\" to uppercase.\n",
        "str = \"hello\"\n",
        "str"
      ],
      "metadata": {
        "colab": {
          "base_uri": "https://localhost:8080/",
          "height": 35
        },
        "id": "4iITR4oyiud6",
        "outputId": "814c61ef-7fc6-4ca5-e277-883856d27c73"
      },
      "execution_count": 12,
      "outputs": [
        {
          "output_type": "execute_result",
          "data": {
            "text/plain": [
              "'hello'"
            ],
            "application/vnd.google.colaboratory.intrinsic+json": {
              "type": "string"
            }
          },
          "metadata": {},
          "execution_count": 12
        }
      ]
    },
    {
      "cell_type": "code",
      "source": [
        "str.upper()"
      ],
      "metadata": {
        "colab": {
          "base_uri": "https://localhost:8080/",
          "height": 35
        },
        "id": "bO7MG0ugjBKo",
        "outputId": "65574c6f-8c62-4ef5-f37d-3d9f169a02c5"
      },
      "execution_count": 10,
      "outputs": [
        {
          "output_type": "execute_result",
          "data": {
            "text/plain": [
              "'HELLO'"
            ],
            "application/vnd.google.colaboratory.intrinsic+json": {
              "type": "string"
            }
          },
          "metadata": {},
          "execution_count": 10
        }
      ]
    },
    {
      "cell_type": "code",
      "source": [
        "#5.Write a code to replace the word \"apple\" with \"orange\" in the string \"I like apple\".\n",
        "fruit = \"I like apple\"\n",
        "print(fruit)"
      ],
      "metadata": {
        "colab": {
          "base_uri": "https://localhost:8080/"
        },
        "id": "uRiW_BUsjwUw",
        "outputId": "3db0195f-79ab-4f4d-f067-3fc73c31ecc4"
      },
      "execution_count": 20,
      "outputs": [
        {
          "output_type": "stream",
          "name": "stdout",
          "text": [
            "I like apple\n"
          ]
        }
      ]
    },
    {
      "cell_type": "code",
      "source": [
        "fruit.replace(\"apple\",\"orange\")"
      ],
      "metadata": {
        "colab": {
          "base_uri": "https://localhost:8080/",
          "height": 35
        },
        "id": "J7OX6b1ZlTDQ",
        "outputId": "995b1799-2960-4699-8ee9-5875b703e357"
      },
      "execution_count": 21,
      "outputs": [
        {
          "output_type": "execute_result",
          "data": {
            "text/plain": [
              "'I like orange'"
            ],
            "application/vnd.google.colaboratory.intrinsic+json": {
              "type": "string"
            }
          },
          "metadata": {},
          "execution_count": 21
        }
      ]
    },
    {
      "cell_type": "code",
      "source": [
        "#6.Write a code to create a list with numbers 1 to 5 and print it.\n",
        "my_list = [1,2,3,4,5]\n",
        "print(my_list)"
      ],
      "metadata": {
        "colab": {
          "base_uri": "https://localhost:8080/"
        },
        "id": "5TDyk_AOj61c",
        "outputId": "23835728-a57d-418e-fe3f-ac6d6d2dbc74"
      },
      "execution_count": 80,
      "outputs": [
        {
          "output_type": "stream",
          "name": "stdout",
          "text": [
            "[1, 2, 3, 4, 5]\n"
          ]
        }
      ]
    },
    {
      "cell_type": "code",
      "source": [
        "#7.Write a code to append the number 10 to the list [1, 2, 3, 4].\n",
        "my_list1 = [1,2,3,4]\n",
        "print(my_list1)"
      ],
      "metadata": {
        "colab": {
          "base_uri": "https://localhost:8080/"
        },
        "id": "TM3rv3nAk40B",
        "outputId": "53ad26e1-65c9-4239-f38b-15b72fd6d1d9"
      },
      "execution_count": 81,
      "outputs": [
        {
          "output_type": "stream",
          "name": "stdout",
          "text": [
            "[1, 2, 3, 4]\n"
          ]
        }
      ]
    },
    {
      "cell_type": "code",
      "source": [
        "my_list1.append(10)"
      ],
      "metadata": {
        "id": "9OMq69uOlZJQ"
      },
      "execution_count": 82,
      "outputs": []
    },
    {
      "cell_type": "code",
      "source": [
        "my_list1"
      ],
      "metadata": {
        "colab": {
          "base_uri": "https://localhost:8080/"
        },
        "id": "MpqtQkR4lcOS",
        "outputId": "a45d7469-84c5-41bd-f058-b7aa991c8740"
      },
      "execution_count": 83,
      "outputs": [
        {
          "output_type": "execute_result",
          "data": {
            "text/plain": [
              "[1, 2, 3, 4, 10]"
            ]
          },
          "metadata": {},
          "execution_count": 83
        }
      ]
    },
    {
      "cell_type": "code",
      "source": [
        "#8.Write a code to remove the number 3 from the list [1, 2, 3, 4, 5].\n",
        "my_list2 = [1,2,3,4,5]\n",
        "print(my_list2)"
      ],
      "metadata": {
        "colab": {
          "base_uri": "https://localhost:8080/"
        },
        "id": "gE0y-is7lhJN",
        "outputId": "91cebf45-980e-44f7-8ee8-c79a478a5147"
      },
      "execution_count": 84,
      "outputs": [
        {
          "output_type": "stream",
          "name": "stdout",
          "text": [
            "[1, 2, 3, 4, 5]\n"
          ]
        }
      ]
    },
    {
      "cell_type": "code",
      "source": [
        "my_list2.remove(3)"
      ],
      "metadata": {
        "id": "iYLs7HJ_mbEy"
      },
      "execution_count": 85,
      "outputs": []
    },
    {
      "cell_type": "code",
      "source": [
        "my_list2"
      ],
      "metadata": {
        "colab": {
          "base_uri": "https://localhost:8080/"
        },
        "id": "FvU6CMSvmhQG",
        "outputId": "2189e088-b748-4736-cdd5-08cb069b8754"
      },
      "execution_count": 86,
      "outputs": [
        {
          "output_type": "execute_result",
          "data": {
            "text/plain": [
              "[1, 2, 4, 5]"
            ]
          },
          "metadata": {},
          "execution_count": 86
        }
      ]
    },
    {
      "cell_type": "code",
      "source": [
        "my_list3 = [1,2,3,4,5]\n",
        "print(my_list3)"
      ],
      "metadata": {
        "colab": {
          "base_uri": "https://localhost:8080/"
        },
        "id": "JVQki1zHmsjP",
        "outputId": "3c41ea5a-b4bb-4948-adc4-c9b3e9a3bbea"
      },
      "execution_count": 87,
      "outputs": [
        {
          "output_type": "stream",
          "name": "stdout",
          "text": [
            "[1, 2, 3, 4, 5]\n"
          ]
        }
      ]
    },
    {
      "cell_type": "code",
      "source": [
        "my_list3.pop(2)"
      ],
      "metadata": {
        "colab": {
          "base_uri": "https://localhost:8080/"
        },
        "id": "Zrjwn0n5m1_U",
        "outputId": "3ec6ab4d-5f71-4143-c24e-c0088c45356b"
      },
      "execution_count": 88,
      "outputs": [
        {
          "output_type": "execute_result",
          "data": {
            "text/plain": [
              "3"
            ]
          },
          "metadata": {},
          "execution_count": 88
        }
      ]
    },
    {
      "cell_type": "code",
      "source": [
        "my_list3"
      ],
      "metadata": {
        "colab": {
          "base_uri": "https://localhost:8080/"
        },
        "id": "xqhht7Wbm7Dn",
        "outputId": "3b102074-ec0d-4b9c-cbf9-928a8b16d809"
      },
      "execution_count": 89,
      "outputs": [
        {
          "output_type": "execute_result",
          "data": {
            "text/plain": [
              "[1, 2, 4, 5]"
            ]
          },
          "metadata": {},
          "execution_count": 89
        }
      ]
    },
    {
      "cell_type": "code",
      "source": [
        "#9.Write a code to access the second element in the list ['a', 'b', 'c', 'd'].\n",
        "my_list4= ['a', 'b', 'c', 'd']\n",
        "print(my_list4)"
      ],
      "metadata": {
        "colab": {
          "base_uri": "https://localhost:8080/"
        },
        "id": "wkM5VXqXnC_8",
        "outputId": "4c57b49a-4e63-4d90-c812-1bf83c9d0d2e"
      },
      "execution_count": 90,
      "outputs": [
        {
          "output_type": "stream",
          "name": "stdout",
          "text": [
            "['a', 'b', 'c', 'd']\n"
          ]
        }
      ]
    },
    {
      "cell_type": "code",
      "source": [
        "my_list4[1]"
      ],
      "metadata": {
        "colab": {
          "base_uri": "https://localhost:8080/",
          "height": 35
        },
        "id": "tM2tEsecnTBF",
        "outputId": "59c81ea0-016f-400a-f0e7-97d3af5617cb"
      },
      "execution_count": 76,
      "outputs": [
        {
          "output_type": "execute_result",
          "data": {
            "text/plain": [
              "'b'"
            ],
            "application/vnd.google.colaboratory.intrinsic+json": {
              "type": "string"
            }
          },
          "metadata": {},
          "execution_count": 76
        }
      ]
    },
    {
      "cell_type": "code",
      "source": [
        "#10.Write a code to reverse the list[10,20,30,40,50].\n",
        "my_list5 = [10,20,30,40,50]\n",
        "print(my_list5)\n"
      ],
      "metadata": {
        "colab": {
          "base_uri": "https://localhost:8080/"
        },
        "id": "hjJ2jhpVna--",
        "outputId": "313d760e-43a1-4319-f3c5-a7af69520d20"
      },
      "execution_count": 91,
      "outputs": [
        {
          "output_type": "stream",
          "name": "stdout",
          "text": [
            "[10, 20, 30, 40, 50]\n"
          ]
        }
      ]
    },
    {
      "cell_type": "code",
      "source": [
        "my_list5.reverse()"
      ],
      "metadata": {
        "id": "CWsydcvznvns"
      },
      "execution_count": 92,
      "outputs": []
    },
    {
      "cell_type": "code",
      "source": [
        "my_list5"
      ],
      "metadata": {
        "colab": {
          "base_uri": "https://localhost:8080/"
        },
        "id": "YZlmWwSkn6eu",
        "outputId": "97e9d932-0110-45a2-c57d-7a565b75b850"
      },
      "execution_count": 93,
      "outputs": [
        {
          "output_type": "execute_result",
          "data": {
            "text/plain": [
              "[50, 40, 30, 20, 10]"
            ]
          },
          "metadata": {},
          "execution_count": 93
        }
      ]
    },
    {
      "cell_type": "code",
      "source": [
        "#11.Write a code to create a tuple with the elements 100, 200, 300 and print it.\n",
        "t1 = (100,200,300)\n",
        "print(t1)"
      ],
      "metadata": {
        "colab": {
          "base_uri": "https://localhost:8080/"
        },
        "id": "vbNb0Iwmn9Ks",
        "outputId": "4778bb07-23d4-40e9-f8b0-eed1a580e6ff"
      },
      "execution_count": 48,
      "outputs": [
        {
          "output_type": "stream",
          "name": "stdout",
          "text": [
            "(100, 200, 300)\n"
          ]
        }
      ]
    },
    {
      "cell_type": "code",
      "source": [
        "type(t1)"
      ],
      "metadata": {
        "colab": {
          "base_uri": "https://localhost:8080/"
        },
        "id": "z7qJ5dUGoVvZ",
        "outputId": "235ab42d-c3e7-4883-b0b7-8c8a153a4f99"
      },
      "execution_count": 49,
      "outputs": [
        {
          "output_type": "execute_result",
          "data": {
            "text/plain": [
              "tuple"
            ]
          },
          "metadata": {},
          "execution_count": 49
        }
      ]
    },
    {
      "cell_type": "code",
      "source": [
        "#12.Write a code to access the second-to-last element of the tuple ('red', 'green', 'blue', 'yellow').\n",
        "t2 = ('red', 'green', 'blue', 'yellow')\n",
        "print(t2)"
      ],
      "metadata": {
        "colab": {
          "base_uri": "https://localhost:8080/"
        },
        "id": "IPn-Df44oY2g",
        "outputId": "cd3e555e-c308-44c5-ade6-323c944c6907"
      },
      "execution_count": 50,
      "outputs": [
        {
          "output_type": "stream",
          "name": "stdout",
          "text": [
            "('red', 'green', 'blue', 'yellow')\n"
          ]
        }
      ]
    },
    {
      "cell_type": "code",
      "source": [
        "t2[1:]"
      ],
      "metadata": {
        "colab": {
          "base_uri": "https://localhost:8080/"
        },
        "id": "Czchxvq-qfqh",
        "outputId": "1c556e64-54ba-4ac8-8f6a-0a193d15fa46"
      },
      "execution_count": 51,
      "outputs": [
        {
          "output_type": "execute_result",
          "data": {
            "text/plain": [
              "('green', 'blue', 'yellow')"
            ]
          },
          "metadata": {},
          "execution_count": 51
        }
      ]
    },
    {
      "cell_type": "code",
      "source": [
        "#13.Write a code to find the minimum number in the tuple (10, 20, 5, 15).\n",
        "t3 = (10, 20, 5, 15)\n",
        "print(t3)"
      ],
      "metadata": {
        "colab": {
          "base_uri": "https://localhost:8080/"
        },
        "id": "dGf4cLyRqlra",
        "outputId": "d97c0a7a-7292-4a66-c28c-c8576a13c994"
      },
      "execution_count": 52,
      "outputs": [
        {
          "output_type": "stream",
          "name": "stdout",
          "text": [
            "(10, 20, 5, 15)\n"
          ]
        }
      ]
    },
    {
      "cell_type": "code",
      "source": [
        "minimum = min(t3)\n",
        "print(\"The minimum number is:\", minimum)"
      ],
      "metadata": {
        "colab": {
          "base_uri": "https://localhost:8080/"
        },
        "id": "NDHweVnWrBMx",
        "outputId": "c5cd25fd-6207-42eb-9de7-ddf14a8214e0"
      },
      "execution_count": 57,
      "outputs": [
        {
          "output_type": "stream",
          "name": "stdout",
          "text": [
            "The minimum number is: 5\n"
          ]
        }
      ]
    },
    {
      "cell_type": "code",
      "source": [
        "#14.Write a code to find the index of the element \"cat\" in the tuple ('dog', 'cat', 'rabbit').\n",
        "animals = ('dog', 'cat', 'rabbit')\n",
        "print(animals)"
      ],
      "metadata": {
        "colab": {
          "base_uri": "https://localhost:8080/"
        },
        "id": "v_ZPQIMJrDXo",
        "outputId": "773749f1-64fd-4d78-a6f1-45f4502987f8"
      },
      "execution_count": 67,
      "outputs": [
        {
          "output_type": "stream",
          "name": "stdout",
          "text": [
            "('dog', 'cat', 'rabbit')\n"
          ]
        }
      ]
    },
    {
      "cell_type": "code",
      "source": [
        "index_of_cat = animals.index('cat')\n",
        "print(\"The index of 'cat' is:\", index_of_cat)"
      ],
      "metadata": {
        "colab": {
          "base_uri": "https://localhost:8080/"
        },
        "id": "0ZLoxcNPtcPU",
        "outputId": "47beea15-4bd9-408a-f388-a884d2c5219d"
      },
      "execution_count": 66,
      "outputs": [
        {
          "output_type": "stream",
          "name": "stdout",
          "text": [
            "The index of 'cat' is: 1\n"
          ]
        }
      ]
    },
    {
      "cell_type": "code",
      "source": [
        "#15.Write a code to create a tuple containing three different fruits and check if \"kiwi\" is in it.\n",
        "fruits = (\"apple\",\"orange\",\"litchi\")\n",
        "print(fruits)"
      ],
      "metadata": {
        "colab": {
          "base_uri": "https://localhost:8080/"
        },
        "id": "B_AHi_uXs1RW",
        "outputId": "e488c5d7-bd7a-4742-dddf-fb2f95ac859d"
      },
      "execution_count": 101,
      "outputs": [
        {
          "output_type": "stream",
          "name": "stdout",
          "text": [
            "('apple', 'orange', 'litchi')\n"
          ]
        }
      ]
    },
    {
      "cell_type": "code",
      "source": [
        "if 'kiwi' in (fruits):\n",
        "  print(\"Yes\")\n",
        "else:\n",
        "  print(\"No\")"
      ],
      "metadata": {
        "colab": {
          "base_uri": "https://localhost:8080/"
        },
        "id": "mJUs_j7fw90K",
        "outputId": "568fbb26-12dd-4f08-f015-b8ec06674d5f"
      },
      "execution_count": 102,
      "outputs": [
        {
          "output_type": "stream",
          "name": "stdout",
          "text": [
            "No\n"
          ]
        }
      ]
    },
    {
      "cell_type": "code",
      "source": [
        "#16.Write a code to create a set with the elements 'a', 'b', 'c' and print it.\n",
        "my_set = {\"a\",\"b\",\"C\"}\n",
        "print(my_set)"
      ],
      "metadata": {
        "colab": {
          "base_uri": "https://localhost:8080/"
        },
        "id": "Bv-SQ9BVxjDi",
        "outputId": "6fd6040c-e322-4abb-857a-8cde0d77ed88"
      },
      "execution_count": 103,
      "outputs": [
        {
          "output_type": "stream",
          "name": "stdout",
          "text": [
            "{'a', 'b', 'C'}\n"
          ]
        }
      ]
    },
    {
      "cell_type": "code",
      "source": [
        "type(my_set)"
      ],
      "metadata": {
        "colab": {
          "base_uri": "https://localhost:8080/"
        },
        "id": "jDayclT4zPUw",
        "outputId": "1b586a26-56d3-4089-bf1c-f8d2d4f4cf93"
      },
      "execution_count": 104,
      "outputs": [
        {
          "output_type": "execute_result",
          "data": {
            "text/plain": [
              "set"
            ]
          },
          "metadata": {},
          "execution_count": 104
        }
      ]
    },
    {
      "cell_type": "code",
      "source": [
        "#17.Write a code to clear all elements from the set {1, 2, 3, 4, 5}.\n",
        "my_set2 = {1,2,3,4,5}"
      ],
      "metadata": {
        "id": "dZhEzeURzSW9"
      },
      "execution_count": 124,
      "outputs": []
    },
    {
      "cell_type": "code",
      "source": [
        "my_set2"
      ],
      "metadata": {
        "colab": {
          "base_uri": "https://localhost:8080/"
        },
        "id": "kz37uv1Ozk4l",
        "outputId": "6fe86ffe-efa4-44cd-a28f-07f9e2c63d87"
      },
      "execution_count": 125,
      "outputs": [
        {
          "output_type": "execute_result",
          "data": {
            "text/plain": [
              "{1, 2, 3, 4, 5}"
            ]
          },
          "metadata": {},
          "execution_count": 125
        }
      ]
    },
    {
      "cell_type": "code",
      "source": [
        "my_set2.clear()"
      ],
      "metadata": {
        "id": "itkOavxczl_V"
      },
      "execution_count": 126,
      "outputs": []
    },
    {
      "cell_type": "code",
      "source": [
        "my_set2"
      ],
      "metadata": {
        "colab": {
          "base_uri": "https://localhost:8080/"
        },
        "id": "MWAgen7Hzqc3",
        "outputId": "bf97d997-b988-442e-e643-5f87643f1e0b"
      },
      "execution_count": 127,
      "outputs": [
        {
          "output_type": "execute_result",
          "data": {
            "text/plain": [
              "set()"
            ]
          },
          "metadata": {},
          "execution_count": 127
        }
      ]
    },
    {
      "cell_type": "code",
      "source": [
        "#18.Write a code to remove the element 4 from the set {1, 2, 3, 4}.\n",
        "my_set3 = {1,2,3,4}\n",
        "print(my_set3)"
      ],
      "metadata": {
        "colab": {
          "base_uri": "https://localhost:8080/"
        },
        "id": "g5-hIjgXz3bX",
        "outputId": "136372dc-4584-431a-9dea-2d6160a64158"
      },
      "execution_count": 128,
      "outputs": [
        {
          "output_type": "stream",
          "name": "stdout",
          "text": [
            "{1, 2, 3, 4}\n"
          ]
        }
      ]
    },
    {
      "cell_type": "code",
      "source": [
        "my_set3.remove(4)"
      ],
      "metadata": {
        "id": "TKbzi5J20upO"
      },
      "execution_count": 129,
      "outputs": []
    },
    {
      "cell_type": "code",
      "source": [
        "my_set3"
      ],
      "metadata": {
        "colab": {
          "base_uri": "https://localhost:8080/"
        },
        "id": "1UiXOHc71AlD",
        "outputId": "715642ea-2aa6-4d7b-f09c-36a5823c68a5"
      },
      "execution_count": 130,
      "outputs": [
        {
          "output_type": "execute_result",
          "data": {
            "text/plain": [
              "{1, 2, 3}"
            ]
          },
          "metadata": {},
          "execution_count": 130
        }
      ]
    },
    {
      "cell_type": "code",
      "source": [
        "#19.Write a code to find the union of two sets {1, 2, 3} and {3, 4, 5}.\n",
        "set1 = {1,2,3}\n",
        "set2 = {3,4,5}"
      ],
      "metadata": {
        "id": "Hxt2QFV21Cei"
      },
      "execution_count": 131,
      "outputs": []
    },
    {
      "cell_type": "code",
      "source": [
        "set1"
      ],
      "metadata": {
        "colab": {
          "base_uri": "https://localhost:8080/"
        },
        "id": "AMdqFjjZ1fRK",
        "outputId": "e2843e7b-a974-443d-9cca-2e57468e0bbf"
      },
      "execution_count": 133,
      "outputs": [
        {
          "output_type": "execute_result",
          "data": {
            "text/plain": [
              "{1, 2, 3}"
            ]
          },
          "metadata": {},
          "execution_count": 133
        }
      ]
    },
    {
      "cell_type": "code",
      "source": [
        "set2"
      ],
      "metadata": {
        "colab": {
          "base_uri": "https://localhost:8080/"
        },
        "id": "W9ovK12u1iw4",
        "outputId": "20069dda-1e5e-4289-d89c-306477559835"
      },
      "execution_count": 134,
      "outputs": [
        {
          "output_type": "execute_result",
          "data": {
            "text/plain": [
              "{3, 4, 5}"
            ]
          },
          "metadata": {},
          "execution_count": 134
        }
      ]
    },
    {
      "cell_type": "code",
      "source": [
        "set1|set2"
      ],
      "metadata": {
        "colab": {
          "base_uri": "https://localhost:8080/"
        },
        "id": "HPletQhA1rfj",
        "outputId": "69c95d2a-fe3a-4a3a-dc45-470845e89d87"
      },
      "execution_count": 135,
      "outputs": [
        {
          "output_type": "execute_result",
          "data": {
            "text/plain": [
              "{1, 2, 3, 4, 5}"
            ]
          },
          "metadata": {},
          "execution_count": 135
        }
      ]
    },
    {
      "cell_type": "code",
      "source": [
        "# Or\n",
        "set1.union(set2)\n"
      ],
      "metadata": {
        "colab": {
          "base_uri": "https://localhost:8080/"
        },
        "id": "Pu18iO7H1wYu",
        "outputId": "c6cc8fa2-54ce-4dfe-d7bc-a0af23635e91"
      },
      "execution_count": 136,
      "outputs": [
        {
          "output_type": "execute_result",
          "data": {
            "text/plain": [
              "{1, 2, 3, 4, 5}"
            ]
          },
          "metadata": {},
          "execution_count": 136
        }
      ]
    },
    {
      "cell_type": "code",
      "source": [
        "# Or\n",
        "set2.union(set1)"
      ],
      "metadata": {
        "colab": {
          "base_uri": "https://localhost:8080/"
        },
        "id": "IGp6f8PB2BN4",
        "outputId": "0b62cf4b-bcb5-465b-808b-fd29d6673cb1"
      },
      "execution_count": 137,
      "outputs": [
        {
          "output_type": "execute_result",
          "data": {
            "text/plain": [
              "{1, 2, 3, 4, 5}"
            ]
          },
          "metadata": {},
          "execution_count": 137
        }
      ]
    },
    {
      "cell_type": "code",
      "source": [
        "# All these 3steps are valid in python."
      ],
      "metadata": {
        "id": "Psn9k9Ax2GB5"
      },
      "execution_count": null,
      "outputs": []
    },
    {
      "cell_type": "code",
      "source": [
        "#20.Write a code to find the intersection of two sets {1, 2, 3} and {2, 3, 4}.\n",
        "set1"
      ],
      "metadata": {
        "colab": {
          "base_uri": "https://localhost:8080/"
        },
        "id": "zlTTttU52Q4t",
        "outputId": "d62d69ae-b117-4a9e-ee1c-4a3547b418c5"
      },
      "execution_count": 139,
      "outputs": [
        {
          "output_type": "execute_result",
          "data": {
            "text/plain": [
              "{1, 2, 3}"
            ]
          },
          "metadata": {},
          "execution_count": 139
        }
      ]
    },
    {
      "cell_type": "code",
      "source": [
        "set2"
      ],
      "metadata": {
        "colab": {
          "base_uri": "https://localhost:8080/"
        },
        "id": "7TAPhtfB2uk9",
        "outputId": "fbeed8eb-601e-4920-a916-9687c9814914"
      },
      "execution_count": 140,
      "outputs": [
        {
          "output_type": "execute_result",
          "data": {
            "text/plain": [
              "{3, 4, 5}"
            ]
          },
          "metadata": {},
          "execution_count": 140
        }
      ]
    },
    {
      "cell_type": "code",
      "source": [
        "set1 & set2"
      ],
      "metadata": {
        "colab": {
          "base_uri": "https://localhost:8080/"
        },
        "id": "glRIgcfT2xV2",
        "outputId": "bd6bf43a-6996-45d2-e1eb-8451260be55e"
      },
      "execution_count": 141,
      "outputs": [
        {
          "output_type": "execute_result",
          "data": {
            "text/plain": [
              "{3}"
            ]
          },
          "metadata": {},
          "execution_count": 141
        }
      ]
    },
    {
      "cell_type": "code",
      "source": [
        "# Or\n",
        "set1.intersection(set2)"
      ],
      "metadata": {
        "colab": {
          "base_uri": "https://localhost:8080/"
        },
        "id": "rVoaHLA022Ko",
        "outputId": "b64e3fed-7c64-4331-8b21-90e0220cd352"
      },
      "execution_count": 142,
      "outputs": [
        {
          "output_type": "execute_result",
          "data": {
            "text/plain": [
              "{3}"
            ]
          },
          "metadata": {},
          "execution_count": 142
        }
      ]
    },
    {
      "cell_type": "code",
      "source": [
        "#Or\n",
        "set2.intersection(set1)"
      ],
      "metadata": {
        "colab": {
          "base_uri": "https://localhost:8080/"
        },
        "id": "Pf4mvVH72838",
        "outputId": "0f999491-a920-4639-dedf-5ccd60afd40c"
      },
      "execution_count": 143,
      "outputs": [
        {
          "output_type": "execute_result",
          "data": {
            "text/plain": [
              "{3}"
            ]
          },
          "metadata": {},
          "execution_count": 143
        }
      ]
    },
    {
      "cell_type": "code",
      "source": [
        "# All these 3steps are valid in python."
      ],
      "metadata": {
        "id": "Sd2WBH4T3DK7"
      },
      "execution_count": null,
      "outputs": []
    },
    {
      "cell_type": "code",
      "source": [
        "#21.Write a code to create a dictionary with the keys \"name\", \"age\", and \"city\", and print it.\n",
        "my_dict = {\"name\":\"sumitabh\",\"age\":\"25\",\"city\":\"kolkata\"}\n",
        "print(my_dict)\n"
      ],
      "metadata": {
        "colab": {
          "base_uri": "https://localhost:8080/"
        },
        "id": "X90WhP8q3PKE",
        "outputId": "90ae759b-626d-4ed3-fbcd-2a982066244e"
      },
      "execution_count": 154,
      "outputs": [
        {
          "output_type": "stream",
          "name": "stdout",
          "text": [
            "{'name': 'sumitabh', 'age': '25', 'city': 'kolkata'}\n"
          ]
        }
      ]
    },
    {
      "cell_type": "code",
      "source": [
        "#22.Write a code to add a new key-value pair \"country\": \"USA\" to the dictionary {'name': 'John', 'age': 25}.\n",
        "my_dict2 = {\"name\":\"John\",\"age\":\"25\"}\n",
        "print(my_dict2)"
      ],
      "metadata": {
        "colab": {
          "base_uri": "https://localhost:8080/"
        },
        "id": "BDW_gDX_4cLO",
        "outputId": "56e2fe46-e60b-4ba8-cab1-e924328e3ce5"
      },
      "execution_count": 169,
      "outputs": [
        {
          "output_type": "stream",
          "name": "stdout",
          "text": [
            "{'name': 'John', 'age': '25'}\n"
          ]
        }
      ]
    },
    {
      "cell_type": "code",
      "source": [
        "my_dict2[\"country\"] = \"USA\""
      ],
      "metadata": {
        "id": "UebXPRkQ5p1t"
      },
      "execution_count": 170,
      "outputs": []
    },
    {
      "cell_type": "code",
      "source": [
        "my_dict2"
      ],
      "metadata": {
        "colab": {
          "base_uri": "https://localhost:8080/"
        },
        "id": "-Y-2y1eX50JB",
        "outputId": "e6ae2006-47c3-4c17-b33b-1d4347dae1b6"
      },
      "execution_count": 171,
      "outputs": [
        {
          "output_type": "execute_result",
          "data": {
            "text/plain": [
              "{'name': 'John', 'age': '25', 'country': 'USA'}"
            ]
          },
          "metadata": {},
          "execution_count": 171
        }
      ]
    },
    {
      "cell_type": "code",
      "source": [
        "my_dict2.update({\"State\":\"WB\"})"
      ],
      "metadata": {
        "id": "QmxM_rII61X4"
      },
      "execution_count": 172,
      "outputs": []
    },
    {
      "cell_type": "code",
      "source": [
        "my_dict2"
      ],
      "metadata": {
        "colab": {
          "base_uri": "https://localhost:8080/"
        },
        "id": "CDPY-7vW8C-q",
        "outputId": "f5bb0d92-c7be-437d-dd04-ee021080326a"
      },
      "execution_count": 173,
      "outputs": [
        {
          "output_type": "execute_result",
          "data": {
            "text/plain": [
              "{'name': 'John', 'age': '25', 'country': 'USA', 'State': 'WB'}"
            ]
          },
          "metadata": {},
          "execution_count": 173
        }
      ]
    },
    {
      "cell_type": "code",
      "source": [
        "#Both steps are can be used to add key-value pair after a dictionary already been created."
      ],
      "metadata": {
        "id": "J-kCahav8Jdd"
      },
      "execution_count": null,
      "outputs": []
    },
    {
      "cell_type": "code",
      "source": [
        "#23.Write a code to access the value associated with the key \"name\" in the dictionary {'name': 'Alice', 'age': 30}.\n",
        "my_dict3 = {'name': 'Alice', 'age': 30}"
      ],
      "metadata": {
        "id": "V2BcZiZZ8qpV"
      },
      "execution_count": 188,
      "outputs": []
    },
    {
      "cell_type": "code",
      "source": [
        "my_dict3"
      ],
      "metadata": {
        "colab": {
          "base_uri": "https://localhost:8080/"
        },
        "id": "2ZPr0SUL8145",
        "outputId": "e064c7dc-a6c5-4e28-e2b6-46d78b05bafb"
      },
      "execution_count": 189,
      "outputs": [
        {
          "output_type": "execute_result",
          "data": {
            "text/plain": [
              "{'name': 'Alice', 'age': 30}"
            ]
          },
          "metadata": {},
          "execution_count": 189
        }
      ]
    },
    {
      "cell_type": "code",
      "source": [
        "value_my_dict3 = my_dict3['name']"
      ],
      "metadata": {
        "id": "T4Px7P8H83Rp"
      },
      "execution_count": 190,
      "outputs": []
    },
    {
      "cell_type": "code",
      "source": [
        "value_my_dict3"
      ],
      "metadata": {
        "colab": {
          "base_uri": "https://localhost:8080/",
          "height": 35
        },
        "id": "0x2gcnYv9At2",
        "outputId": "3dd54962-d0e8-4680-a27b-d1c1c31d0657"
      },
      "execution_count": 191,
      "outputs": [
        {
          "output_type": "execute_result",
          "data": {
            "text/plain": [
              "'Alice'"
            ],
            "application/vnd.google.colaboratory.intrinsic+json": {
              "type": "string"
            }
          },
          "metadata": {},
          "execution_count": 191
        }
      ]
    },
    {
      "cell_type": "code",
      "source": [
        "value_of_my_dict3 = my_dict3.get('name')"
      ],
      "metadata": {
        "id": "8QX24yTb-Jhj"
      },
      "execution_count": 192,
      "outputs": []
    },
    {
      "cell_type": "code",
      "source": [
        "value_of_my_dict3"
      ],
      "metadata": {
        "colab": {
          "base_uri": "https://localhost:8080/",
          "height": 35
        },
        "id": "zjoJF3Rj_Acv",
        "outputId": "ea285e1f-6414-4411-c0b5-38d9ca859c23"
      },
      "execution_count": 193,
      "outputs": [
        {
          "output_type": "execute_result",
          "data": {
            "text/plain": [
              "'Alice'"
            ],
            "application/vnd.google.colaboratory.intrinsic+json": {
              "type": "string"
            }
          },
          "metadata": {},
          "execution_count": 193
        }
      ]
    },
    {
      "cell_type": "code",
      "source": [
        "#Both the steps can be used in Python to get the value associated with the key \"name\" in the dictionary."
      ],
      "metadata": {
        "id": "7GQKzxR__BuA"
      },
      "execution_count": null,
      "outputs": []
    },
    {
      "cell_type": "code",
      "source": [
        "#24. Write a code to remove the key \"age\" from the dictionary {'name': 'Bob', 'age': 22, 'city': 'New York'}.\n",
        "my_dict4 = {'name': 'Bob', 'age': 22, 'city': 'New York'}"
      ],
      "metadata": {
        "id": "jVOmV-LtKiHe"
      },
      "execution_count": 205,
      "outputs": []
    },
    {
      "cell_type": "code",
      "source": [
        "my_dict4"
      ],
      "metadata": {
        "colab": {
          "base_uri": "https://localhost:8080/"
        },
        "id": "7UtemikLKsi8",
        "outputId": "767e56d6-d197-4791-8ec6-6209546f403e"
      },
      "execution_count": 206,
      "outputs": [
        {
          "output_type": "execute_result",
          "data": {
            "text/plain": [
              "{'name': 'Bob', 'age': 22, 'city': 'New York'}"
            ]
          },
          "metadata": {},
          "execution_count": 206
        }
      ]
    },
    {
      "cell_type": "code",
      "source": [
        "del my_dict4[\"age\"]"
      ],
      "metadata": {
        "id": "Nf-5yJEfKt9e"
      },
      "execution_count": 207,
      "outputs": []
    },
    {
      "cell_type": "code",
      "source": [
        "my_dict4"
      ],
      "metadata": {
        "colab": {
          "base_uri": "https://localhost:8080/"
        },
        "id": "5ytKJJyFK5rX",
        "outputId": "1e065f44-318b-4cb5-ed7b-8ff1e2c06f84"
      },
      "execution_count": 208,
      "outputs": [
        {
          "output_type": "execute_result",
          "data": {
            "text/plain": [
              "{'name': 'Bob', 'city': 'New York'}"
            ]
          },
          "metadata": {},
          "execution_count": 208
        }
      ]
    },
    {
      "cell_type": "code",
      "source": [
        "#25.Write a code to check if the key \"city\" exists in the dictionary {'name': 'Alice', 'city': 'Paris'}.\n",
        "my_dict5 = {'name': 'Alice', 'city': 'Paris'}"
      ],
      "metadata": {
        "id": "w5HRlLi1LdzV"
      },
      "execution_count": 215,
      "outputs": []
    },
    {
      "cell_type": "code",
      "source": [
        "my_dict5"
      ],
      "metadata": {
        "colab": {
          "base_uri": "https://localhost:8080/"
        },
        "id": "xAYZKrqQL23Q",
        "outputId": "fb2cce6d-a8c7-4fdf-d73c-bb483bbbaac9"
      },
      "execution_count": 216,
      "outputs": [
        {
          "output_type": "execute_result",
          "data": {
            "text/plain": [
              "{'name': 'Alice', 'city': 'Paris'}"
            ]
          },
          "metadata": {},
          "execution_count": 216
        }
      ]
    },
    {
      "cell_type": "code",
      "source": [
        "if 'city' in my_dict5:\n",
        "  print(\"city is present in my_dict5\")\n",
        "else:\n",
        "  print(\"city is not present in my_dict5\")"
      ],
      "metadata": {
        "colab": {
          "base_uri": "https://localhost:8080/"
        },
        "id": "gTx-tVHPL4RY",
        "outputId": "5f649b91-0292-41e6-e337-c6a3df0c1bbf"
      },
      "execution_count": 217,
      "outputs": [
        {
          "output_type": "stream",
          "name": "stdout",
          "text": [
            "city is present in my_dict5\n"
          ]
        }
      ]
    },
    {
      "cell_type": "code",
      "source": [
        "#26.Write a code to create a list, a tuple, and a dictionary, and print them all.\n",
        "my_new_list = [1,2,3,4,5]\n",
        "my_new_tuple = (\"a\",\"b\",\"c\",2,4,5)\n",
        "my_new_dict = {\"name\":\"sumitabh\",\"age\":\"25\",\"city\":\"kolkata\"}"
      ],
      "metadata": {
        "id": "ZYYisAfEM0YH"
      },
      "execution_count": 221,
      "outputs": []
    },
    {
      "cell_type": "code",
      "source": [
        "print(my_new_list)\n",
        "print(my_new_tuple)\n",
        "print(my_new_dict)"
      ],
      "metadata": {
        "colab": {
          "base_uri": "https://localhost:8080/"
        },
        "id": "fJ9CDnHwNuP9",
        "outputId": "ea9231c7-ea79-42ef-ccc2-8a1ec2cda81e"
      },
      "execution_count": 222,
      "outputs": [
        {
          "output_type": "stream",
          "name": "stdout",
          "text": [
            "[1, 2, 3, 4, 5]\n",
            "('a', 'b', 'c', 2, 4, 5)\n",
            "{'name': 'sumitabh', 'age': '25', 'city': 'kolkata'}\n"
          ]
        }
      ]
    },
    {
      "cell_type": "code",
      "source": [
        "print(type(my_new_list))\n",
        "print(type(my_new_tuple))\n",
        "print(type(my_new_dict))"
      ],
      "metadata": {
        "colab": {
          "base_uri": "https://localhost:8080/"
        },
        "id": "6BRhy75JOF-r",
        "outputId": "84d1e538-c150-4123-c495-9fa78a917bd0"
      },
      "execution_count": 223,
      "outputs": [
        {
          "output_type": "stream",
          "name": "stdout",
          "text": [
            "<class 'list'>\n",
            "<class 'tuple'>\n",
            "<class 'dict'>\n"
          ]
        }
      ]
    },
    {
      "cell_type": "code",
      "source": [
        "#27.Write a code to create a list of 5 random numbers between 1 and 100,sort it in ascending order, and print the result.(replaced)\n",
        "my_list6 = [10,50,30,45,39,69]\n",
        "print(my_list6)"
      ],
      "metadata": {
        "colab": {
          "base_uri": "https://localhost:8080/"
        },
        "id": "FIsImZraOSn-",
        "outputId": "05505ac0-4dd1-4e96-b9ac-b9a458871af6"
      },
      "execution_count": 225,
      "outputs": [
        {
          "output_type": "stream",
          "name": "stdout",
          "text": [
            "[10, 50, 30, 45, 39, 69]\n"
          ]
        }
      ]
    },
    {
      "cell_type": "code",
      "source": [
        "my_list6.sort()"
      ],
      "metadata": {
        "id": "abnk8jcaOfW-"
      },
      "execution_count": 226,
      "outputs": []
    },
    {
      "cell_type": "code",
      "source": [
        "my_list6"
      ],
      "metadata": {
        "colab": {
          "base_uri": "https://localhost:8080/"
        },
        "id": "Eo0-_h1bO7O0",
        "outputId": "c77703b5-44ef-4190-f425-ae35aa3a3f1a"
      },
      "execution_count": 227,
      "outputs": [
        {
          "output_type": "execute_result",
          "data": {
            "text/plain": [
              "[10, 30, 39, 45, 50, 69]"
            ]
          },
          "metadata": {},
          "execution_count": 227
        }
      ]
    },
    {
      "cell_type": "code",
      "source": [
        "#28.Write a code to create a list with strings and print the element at the third index.\n",
        "my_list7 = [\"Ajay\",\"Bijay\",\"Swati\",\"Sumitabh\",\"Bumrah\"]\n",
        "print(my_list7)\n"
      ],
      "metadata": {
        "colab": {
          "base_uri": "https://localhost:8080/"
        },
        "id": "NRRKg8CDO9BE",
        "outputId": "f8d7dd1a-0e98-42e9-d1ce-454d38f16cc8"
      },
      "execution_count": 237,
      "outputs": [
        {
          "output_type": "stream",
          "name": "stdout",
          "text": [
            "['Ajay', 'Bijay', 'Swati', 'Sumitabh', 'Bumrah']\n"
          ]
        }
      ]
    },
    {
      "cell_type": "code",
      "source": [
        "print(\"My name is:\",my_list7[3])"
      ],
      "metadata": {
        "colab": {
          "base_uri": "https://localhost:8080/"
        },
        "id": "_VS7gdy7PqDU",
        "outputId": "253a4b53-519e-4c98-f4e5-52b09bab9dde"
      },
      "execution_count": 238,
      "outputs": [
        {
          "output_type": "stream",
          "name": "stdout",
          "text": [
            "My name is: Sumitabh\n"
          ]
        }
      ]
    },
    {
      "cell_type": "code",
      "source": [
        "#29.Write a code to combine two dictionaries into one and print the result.\n",
        "dict1 = {\"My\":\"name\",\"is\":\"Sumitabh.\"}\n",
        "dict2 = {\"I\":\"live\",\"in\":\"Kolkata.\"}"
      ],
      "metadata": {
        "id": "Z5Kxgd_aQTcH"
      },
      "execution_count": 239,
      "outputs": []
    },
    {
      "cell_type": "code",
      "source": [
        "print(dict1)\n",
        "print(dict2)"
      ],
      "metadata": {
        "colab": {
          "base_uri": "https://localhost:8080/"
        },
        "id": "n72tG4ASSXbv",
        "outputId": "ab9452db-0c5b-4753-da1b-0f6c51a1ced2"
      },
      "execution_count": 240,
      "outputs": [
        {
          "output_type": "stream",
          "name": "stdout",
          "text": [
            "{'My': 'name', 'is': 'Sumitabh.'}\n",
            "{'I': 'live', 'in': 'Kolkata.'}\n"
          ]
        }
      ]
    },
    {
      "cell_type": "code",
      "source": [
        "dict3 = {**dict1,**dict2}"
      ],
      "metadata": {
        "id": "BzgfxtxFSbyg"
      },
      "execution_count": 242,
      "outputs": []
    },
    {
      "cell_type": "code",
      "source": [
        "print(dict3)"
      ],
      "metadata": {
        "colab": {
          "base_uri": "https://localhost:8080/"
        },
        "id": "9cKx-jo4Sqel",
        "outputId": "3972c02d-63a2-4349-df53-82f3c75afbe2"
      },
      "execution_count": 244,
      "outputs": [
        {
          "output_type": "stream",
          "name": "stdout",
          "text": [
            "{'My': 'name', 'is': 'Sumitabh.', 'I': 'live', 'in': 'Kolkata.'}\n"
          ]
        }
      ]
    },
    {
      "cell_type": "code",
      "source": [
        "#Or\n",
        "dict4 = dict1 | dict2"
      ],
      "metadata": {
        "id": "5ZEEGAR7Suyf"
      },
      "execution_count": 245,
      "outputs": []
    },
    {
      "cell_type": "code",
      "source": [
        "print(dict4)"
      ],
      "metadata": {
        "colab": {
          "base_uri": "https://localhost:8080/"
        },
        "id": "4oxaj8ZLTCMg",
        "outputId": "41ac75a6-9c6e-4324-fb54-a43e28fde4d6"
      },
      "execution_count": 246,
      "outputs": [
        {
          "output_type": "stream",
          "name": "stdout",
          "text": [
            "{'My': 'name', 'is': 'Sumitabh.', 'I': 'live', 'in': 'Kolkata.'}\n"
          ]
        }
      ]
    },
    {
      "cell_type": "code",
      "source": [
        "#30.Write a code to convert a list of strings into a set.\n",
        "my_list8 = [\"S\",\"U\",\"M\",\"I\",\"T\",\"A\",\"B\",\"H\"]"
      ],
      "metadata": {
        "id": "dxF01qNKTEgi"
      },
      "execution_count": 247,
      "outputs": []
    },
    {
      "cell_type": "code",
      "source": [
        "print(my_list8)"
      ],
      "metadata": {
        "colab": {
          "base_uri": "https://localhost:8080/"
        },
        "id": "JVvJIerIT39f",
        "outputId": "722dbb50-f35b-42b2-a6f7-1b88e9b66c1e"
      },
      "execution_count": 248,
      "outputs": [
        {
          "output_type": "stream",
          "name": "stdout",
          "text": [
            "['S', 'U', 'M', 'I', 'T', 'A', 'B', 'H']\n"
          ]
        }
      ]
    },
    {
      "cell_type": "code",
      "source": [
        "my_set4 = set(my_list8)"
      ],
      "metadata": {
        "id": "D4DB_5IBT7Xf"
      },
      "execution_count": 252,
      "outputs": []
    },
    {
      "cell_type": "code",
      "source": [
        "print(my_set4)"
      ],
      "metadata": {
        "colab": {
          "base_uri": "https://localhost:8080/"
        },
        "id": "8blHaG3YU7TJ",
        "outputId": "886a8188-81ec-4758-e36a-e842ea707813"
      },
      "execution_count": 256,
      "outputs": [
        {
          "output_type": "stream",
          "name": "stdout",
          "text": [
            "{'T', 'I', 'H', 'A', 'M', 'U', 'S', 'B'}\n"
          ]
        }
      ]
    },
    {
      "cell_type": "markdown",
      "source": [
        "---"
      ],
      "metadata": {
        "id": "koVZru87VrQa"
      }
    }
  ]
}